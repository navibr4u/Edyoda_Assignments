{
  "nbformat": 4,
  "nbformat_minor": 0,
  "metadata": {
    "colab": {
      "provenance": [],
      "authorship_tag": "ABX9TyMh43mSi9oT9iuZ5afbqLkR",
      "include_colab_link": true
    },
    "kernelspec": {
      "name": "python3",
      "display_name": "Python 3"
    },
    "language_info": {
      "name": "python"
    }
  },
  "cells": [
    {
      "cell_type": "markdown",
      "metadata": {
        "id": "view-in-github",
        "colab_type": "text"
      },
      "source": [
        "<a href=\"https://colab.research.google.com/github/navibr4u/Edyoda_Assignments/blob/main/M1A02_Answer.ipynb\" target=\"_parent\"><img src=\"https://colab.research.google.com/assets/colab-badge.svg\" alt=\"Open In Colab\"/></a>"
      ]
    },
    {
      "cell_type": "markdown",
      "source": [
        "**Hands-on Assignment Problem Statement 02**\n",
        "\n",
        "Write a program that computes the net amount of a bank account based on a transaction log from console input. The transaction log / sample input is in the format as shown below:\n",
        "\n",
        "Input\n",
        "\n",
        "log_message = D:100 W:10\n",
        "\n",
        "Output\n",
        "\n",
        "90\n",
        "\n",
        "Input\n",
        "\n",
        "Log_message = D:100 W:200 D:400\n",
        "\n",
        "Output\n",
        "\n",
        "300 (100 - 200 + 400 = 300)"
      ],
      "metadata": {
        "id": "phQAsJRIUVgR"
      }
    },
    {
      "cell_type": "code",
      "source": [
        "# Check the Deposit Withdrawal v/s total balance \n",
        "curr_amount = 0\n",
        "\n",
        "while True:\n",
        "    \n",
        "    str = input(\"Enter transaction D for Deposit W for Withdraw: \")\n",
        "    transaction = str.split(\" \")\n",
        "    type = transaction[0]\n",
        "    amount = int(transaction[1])\n",
        "\n",
        "    if type == \"D\" or type == \"d\":\n",
        "        curr_amount += amount\n",
        "    elif type == \"W\" or type == \"w\":\n",
        "        curr_amount -= amount\n",
        "    else:\n",
        "        pass\n",
        "\n",
        "    str = input(\"Do you want to continue (Y for yes) : \")\n",
        "    if not (str[0] == \"Y\" or str[0] == \"y\"):\n",
        "        break\n",
        "\n",
        "print(\"Current Balance: \", curr_amount)\n"
      ],
      "metadata": {
        "colab": {
          "base_uri": "https://localhost:8080/"
        },
        "id": "WKbCXq-RUb9E",
        "outputId": "934a0173-de71-4e7a-ed56-8a11dbfa35e1"
      },
      "execution_count": 1,
      "outputs": [
        {
          "output_type": "stream",
          "name": "stdout",
          "text": [
            "Enter transaction D for Deposit W for Withdraw: D 1000\n",
            "Do you want to continue (Y for yes) : Y\n",
            "Enter transaction D for Deposit W for Withdraw: W 500\n",
            "Do you want to continue (Y for yes) : N\n",
            "Current Balance:  500\n"
          ]
        }
      ]
    },
    {
      "cell_type": "code",
      "source": [],
      "metadata": {
        "id": "nA4Aez1VUlo8"
      },
      "execution_count": null,
      "outputs": []
    }
  ]
}