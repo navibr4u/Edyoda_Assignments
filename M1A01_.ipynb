{
  "nbformat": 4,
  "nbformat_minor": 0,
  "metadata": {
    "colab": {
      "provenance": [],
      "authorship_tag": "ABX9TyOv8C4YiLzjlo4tAxA9cWEC",
      "include_colab_link": true
    },
    "kernelspec": {
      "name": "python3",
      "display_name": "Python 3"
    },
    "language_info": {
      "name": "python"
    }
  },
  "cells": [
    {
      "cell_type": "markdown",
      "metadata": {
        "id": "view-in-github",
        "colab_type": "text"
      },
      "source": [
        "<a href=\"https://colab.research.google.com/github/navibr4u/Edyoda_Assignments/blob/main/M1A01_.ipynb\" target=\"_parent\"><img src=\"https://colab.research.google.com/assets/colab-badge.svg\" alt=\"Open In Colab\"/></a>"
      ]
    },
    {
      "cell_type": "markdown",
      "source": [
        "**Problem Statement 01**\n",
        "\n",
        "Write a program that takes a integer from keyboard and prints a string according the business logic given below\n",
        "\n",
        "1. For each multiple of 3, Print 'Fizz',\n",
        "\n",
        "2. For each multiple of 5, Print Fuzz\n",
        "\n",
        "3. For each multiple of 3 and 5 Print 'Fizz Buzz"
      ],
      "metadata": {
        "id": "JT_eAukbR8D_"
      }
    },
    {
      "cell_type": "code",
      "source": [
        "#  For loop for entering number\n",
        "\n",
        "n=int(input(\"Enter Number:\"))\n",
        "for num in range(1,n):\n",
        "    if(num%3==0):\n",
        "        print(\"Fizz\")\n",
        "    elif(num%5==0):\n",
        "        print(\"Fuzz\")\n",
        "    elif(num%3==0 and num%5==0):\n",
        "        print(\"Fizz Buzz\")\n",
        "    else:\n",
        "        print(num)\n"
      ],
      "metadata": {
        "colab": {
          "base_uri": "https://localhost:8080/"
        },
        "id": "5SfJ_qA5SJ_F",
        "outputId": "f330c8c0-f7dd-41d0-e9d4-8df8f3919266"
      },
      "execution_count": 2,
      "outputs": [
        {
          "output_type": "stream",
          "name": "stdout",
          "text": [
            "Enter Number:5\n",
            "1\n",
            "2\n",
            "Fizz\n",
            "4\n"
          ]
        }
      ]
    }
  ]
}