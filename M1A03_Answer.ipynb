{
  "nbformat": 4,
  "nbformat_minor": 0,
  "metadata": {
    "colab": {
      "provenance": [],
      "authorship_tag": "ABX9TyOVqptWUNJHhNLCJU7jxO/l",
      "include_colab_link": true
    },
    "kernelspec": {
      "name": "python3",
      "display_name": "Python 3"
    },
    "language_info": {
      "name": "python"
    }
  },
  "cells": [
    {
      "cell_type": "markdown",
      "metadata": {
        "id": "view-in-github",
        "colab_type": "text"
      },
      "source": [
        "<a href=\"https://colab.research.google.com/github/navibr4u/Edyoda_Assignments/blob/main/M1A03_Answer.ipynb\" target=\"_parent\"><img src=\"https://colab.research.google.com/assets/colab-badge.svg\" alt=\"Open In Colab\"/></a>"
      ]
    },
    {
      "cell_type": "markdown",
      "source": [
        "**Hands-on Assignment Problem Statement 03**\n",
        "\n",
        "Write a program that prompts the user to input number of calls and calculate the monthly telephone bills as per the following rule:\n",
        "\n",
        "● Minimum Rs. 200 for up to 100 calls.\n",
        "\n",
        "● Plus Rs. 0.60 per call for next 50 calls.\n",
        "\n",
        "● Plus Rs. 0.50 per call for next 50 calls.\n",
        "\n",
        "● Plus Rs. 0.40 per call for any call beyond 200 calls."
      ],
      "metadata": {
        "id": "ZZ3f2fj5VDnX"
      }
    },
    {
      "cell_type": "code",
      "source": [
        "# Total Bill amount based on voice calls\n",
        "\n",
        "voice_calls = int(input(\"Enter number of voice_calls: \"))\n",
        "\n",
        "if voice_calls <= 100:\n",
        "    bill = 200 \n",
        "elif voice_calls > 100 and voice_calls <= 150:\n",
        "    voice_calls = voice_calls - 100\n",
        "    bill = 200 + (0.60 * voice_calls)\n",
        "elif voice_calls > 150 and voice_calls <= 200:\n",
        "    voice_calls = voice_calls - 150\n",
        "    bill = 200 + (0.60 * 50) + (0.50 * voice_calls)\n",
        "else:\n",
        "    voice_calls = voice_calls - 200\n",
        "    bill = 200 + (0.60 * 50) + (0.50 * 50) + (0.40 * voice_calls)\n",
        "\n",
        "print(\"Total bill amount is\", bill)\n"
      ],
      "metadata": {
        "colab": {
          "base_uri": "https://localhost:8080/"
        },
        "id": "3lHRK6MFVITj",
        "outputId": "80b8631b-0110-4bfc-c39f-e4597e2e2f52"
      },
      "execution_count": 1,
      "outputs": [
        {
          "output_type": "stream",
          "name": "stdout",
          "text": [
            "Enter number of voice_calls: 350\n",
            "Total bill amount is 315.0\n"
          ]
        }
      ]
    }
  ]
}