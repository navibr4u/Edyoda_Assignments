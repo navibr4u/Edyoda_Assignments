{
  "nbformat": 4,
  "nbformat_minor": 0,
  "metadata": {
    "colab": {
      "provenance": [],
      "authorship_tag": "ABX9TyPGBrpSnuwwdQBrcXPrgcUj",
      "include_colab_link": true
    },
    "kernelspec": {
      "name": "python3",
      "display_name": "Python 3"
    },
    "language_info": {
      "name": "python"
    }
  },
  "cells": [
    {
      "cell_type": "markdown",
      "metadata": {
        "id": "view-in-github",
        "colab_type": "text"
      },
      "source": [
        "<a href=\"https://colab.research.google.com/github/navibr4u/Edyoda_Assignments/blob/main/Assignment_3_Modules_Functions.ipynb\" target=\"_parent\"><img src=\"https://colab.research.google.com/assets/colab-badge.svg\" alt=\"Open In Colab\"/></a>"
      ]
    },
    {
      "cell_type": "markdown",
      "source": [
        "**Game of Function**\n",
        "**Write a Python function to sum all the numbers in a list.**\n",
        "\n",
        "Sample List : (8, 2, 3, 0, 7)\n",
        "\n",
        "**Expected Output : 20**\n",
        "\n",
        "**Explanation:**\n",
        "\n",
        "Summation should like 8+2+3+0+7 = 20"
      ],
      "metadata": {
        "id": "Lqh1DKWFXUgH"
      }
    },
    {
      "cell_type": "code",
      "source": [
        "a=(8,2,3,0,7)\n",
        "b=list(a)\n",
        "sum(b)"
      ],
      "metadata": {
        "colab": {
          "base_uri": "https://localhost:8080/"
        },
        "id": "5-Ne62zyXate",
        "outputId": "fb0afb2b-c999-4b10-ada3-6d44d712dd8a"
      },
      "execution_count": 2,
      "outputs": [
        {
          "output_type": "execute_result",
          "data": {
            "text/plain": [
              "20"
            ]
          },
          "metadata": {},
          "execution_count": 2
        }
      ]
    },
    {
      "cell_type": "markdown",
      "source": [
        "**String inside the function**\n",
        "**Write a Python program to reverse a string.**\n",
        "\n",
        "﻿Sample String : \"1234abcd\"\n",
        "\n",
        "Expected Output : \"dcba4321\"\n",
        "\n"
      ],
      "metadata": {
        "id": "7BDsHgXMYssI"
      }
    },
    {
      "cell_type": "code",
      "source": [
        "Sample_String = \"1234abcd\"\n",
        "Sample_String[::-1]"
      ],
      "metadata": {
        "colab": {
          "base_uri": "https://localhost:8080/",
          "height": 36
        },
        "id": "gSY_D4a2Y0K7",
        "outputId": "a8296481-fb63-47cf-bc04-e239d284c383"
      },
      "execution_count": 3,
      "outputs": [
        {
          "output_type": "execute_result",
          "data": {
            "text/plain": [
              "'dcba4321'"
            ],
            "application/vnd.google.colaboratory.intrinsic+json": {
              "type": "string"
            }
          },
          "metadata": {},
          "execution_count": 3
        }
      ]
    },
    {
      "cell_type": "markdown",
      "source": [
        "**Calculate the Upper and The lower Case**\n",
        "**Write a Python function that accepts a string and calculate the number of upper case letters and lower case letters.**\n",
        "\n",
        "﻿Sample String : 'The quick Brow Fox'\n",
        "\n",
        "Expected Output :\n",
        "\n",
        "No. of Upper case characters : 3\n",
        "\n",
        "No. of Lower case Characters : 12"
      ],
      "metadata": {
        "id": "3e0c0w6LZIS0"
      }
    },
    {
      "cell_type": "code",
      "source": [
        "def string_test(a):\n",
        "    d={\"UPPER_CASE\":0, \"LOWER_CASE\":0}\n",
        "    for i in a:\n",
        "        if i.isupper():\n",
        "           d[\"UPPER_CASE\"]+=1\n",
        "        elif i.islower():\n",
        "           d[\"LOWER_CASE\"]+=1\n",
        "        else:\n",
        "           pass\n",
        "    print (\"Original String : \", a)\n",
        "    print (\"No. of Upper case characters : \", d[\"UPPER_CASE\"])\n",
        "    print (\"No. of Lower case Characters : \", d[\"LOWER_CASE\"])\n",
        "\n",
        "string_test('The quick Brown Fox')"
      ],
      "metadata": {
        "colab": {
          "base_uri": "https://localhost:8080/"
        },
        "id": "rkHz8eEjZbrZ",
        "outputId": "477d231f-9c98-4c4f-e588-3620529a44ee"
      },
      "execution_count": 5,
      "outputs": [
        {
          "output_type": "stream",
          "name": "stdout",
          "text": [
            "Original String :  The quick Brown Fox\n",
            "No. of Upper case characters :  3\n",
            "No. of Lower case Characters :  13\n"
          ]
        }
      ]
    },
    {
      "cell_type": "code",
      "source": [],
      "metadata": {
        "id": "DOS5LB-QZcyv"
      },
      "execution_count": null,
      "outputs": []
    }
  ]
}