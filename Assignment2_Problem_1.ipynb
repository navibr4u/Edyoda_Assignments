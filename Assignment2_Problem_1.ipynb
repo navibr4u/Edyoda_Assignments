{
  "nbformat": 4,
  "nbformat_minor": 0,
  "metadata": {
    "colab": {
      "provenance": [],
      "authorship_tag": "ABX9TyNTka0GdFAJYc1O98UfDL3b",
      "include_colab_link": true
    },
    "kernelspec": {
      "name": "python3",
      "display_name": "Python 3"
    },
    "language_info": {
      "name": "python"
    }
  },
  "cells": [
    {
      "cell_type": "markdown",
      "metadata": {
        "id": "view-in-github",
        "colab_type": "text"
      },
      "source": [
        "<a href=\"https://colab.research.google.com/github/navibr4u/Edyoda_Assignments/blob/main/Assignment2_Problem_1.ipynb\" target=\"_parent\"><img src=\"https://colab.research.google.com/assets/colab-badge.svg\" alt=\"Open In Colab\"/></a>"
      ]
    },
    {
      "cell_type": "markdown",
      "source": [
        "Problem Statement 01\n",
        "**bold text**\n",
        "Given a list of numbers\n",
        "\n",
        "filenames = ['view.jpg', 'bear.jpg', 'ball.png']\n",
        "\n",
        "Write a program Add the file 'phone.jpg' to this list at the beginning. Then delete the file 'ball.png'. In response, print the filenames list to the console.\n",
        "\n",
        "Expected Output\n",
        "\n",
        "['phone.jpg', 'view.jpg', 'bear.jpg']"
      ],
      "metadata": {
        "id": "BXHisESiV-0H"
      }
    },
    {
      "cell_type": "code",
      "source": [
        "filenames=['view.jpg','bear.jpg','ball.jpg']\n",
        "filenames.insert(0,'phone.jpg')\n",
        "filenames"
      ],
      "metadata": {
        "colab": {
          "base_uri": "https://localhost:8080/"
        },
        "id": "7uM3b3lLWDYo",
        "outputId": "3281520f-4a26-482f-ca37-c47bd2105fdd"
      },
      "execution_count": 1,
      "outputs": [
        {
          "output_type": "execute_result",
          "data": {
            "text/plain": [
              "['phone.jpg', 'view.jpg', 'bear.jpg', 'ball.jpg']"
            ]
          },
          "metadata": {},
          "execution_count": 1
        }
      ]
    },
    {
      "cell_type": "code",
      "source": [
        "# Removes Last element\n",
        "filenames.pop()"
      ],
      "metadata": {
        "colab": {
          "base_uri": "https://localhost:8080/",
          "height": 36
        },
        "id": "qyl8qwDLWtr_",
        "outputId": "4948e8e6-3c44-4fd0-c6d2-43f741e9e0cf"
      },
      "execution_count": 2,
      "outputs": [
        {
          "output_type": "execute_result",
          "data": {
            "text/plain": [
              "'ball.jpg'"
            ],
            "application/vnd.google.colaboratory.intrinsic+json": {
              "type": "string"
            }
          },
          "metadata": {},
          "execution_count": 2
        }
      ]
    },
    {
      "cell_type": "code",
      "source": [
        "filenames"
      ],
      "metadata": {
        "colab": {
          "base_uri": "https://localhost:8080/"
        },
        "id": "cS5CzICKW0xg",
        "outputId": "a02c0613-c9ca-4613-ead9-1b4dabff21fb"
      },
      "execution_count": 3,
      "outputs": [
        {
          "output_type": "execute_result",
          "data": {
            "text/plain": [
              "['phone.jpg', 'view.jpg', 'bear.jpg']"
            ]
          },
          "metadata": {},
          "execution_count": 3
        }
      ]
    },
    {
      "cell_type": "markdown",
      "source": [
        "**Problem Statement 02 Given a list of numbers**\n",
        "\n",
        "L = [1,2,3,4,5,6,7,8,9,10]\n",
        "\n",
        "Write a program to find the maximum,minimum and average element in a given list without using m"
      ],
      "metadata": {
        "id": "iFvhG4i6XA8T"
      }
    },
    {
      "cell_type": "code",
      "source": [
        "# Find Average,Min,Max number\n",
        "list=[1,2,3,4,5,6,7,8,9,10]\n",
        "\n",
        "min=list[0]\n",
        "max=list[0]\n",
        "avg=float(sum(list))/(len(list))\n",
        "for i in range(1,10):\n",
        "    if max<list[i]:\n",
        "        max=list[i]\n",
        "    if min>list[i]:\n",
        "        min=list[i]\n",
        "print(\" %d is the Maximum number \" %max)\n",
        "print(\" %d is the Minimum number \" %min)\n",
        "print(\" %d is the Average number \" %avg)"
      ],
      "metadata": {
        "colab": {
          "base_uri": "https://localhost:8080/"
        },
        "id": "sNt2QCdJXDA0",
        "outputId": "92d59f89-d8e6-4083-911c-49722b57ef67"
      },
      "execution_count": 4,
      "outputs": [
        {
          "output_type": "stream",
          "name": "stdout",
          "text": [
            " 10 is the Maximum number \n",
            " 1 is the Minimum number \n",
            " 5 is the Average number \n"
          ]
        }
      ]
    },
    {
      "cell_type": "code",
      "source": [],
      "metadata": {
        "id": "SKy0vQYhW2AS"
      },
      "execution_count": null,
      "outputs": []
    }
  ]
}