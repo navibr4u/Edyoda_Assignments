{
  "nbformat": 4,
  "nbformat_minor": 0,
  "metadata": {
    "colab": {
      "provenance": [],
      "authorship_tag": "ABX9TyN8uAVQKoqaIkzNdufqkb4u",
      "include_colab_link": true
    },
    "kernelspec": {
      "name": "python3",
      "display_name": "Python 3"
    },
    "language_info": {
      "name": "python"
    }
  },
  "cells": [
    {
      "cell_type": "markdown",
      "metadata": {
        "id": "view-in-github",
        "colab_type": "text"
      },
      "source": [
        "<a href=\"https://colab.research.google.com/github/navibr4u/Edyoda_Assignments/blob/main/Assignment2_Problem2.ipynb\" target=\"_parent\"><img src=\"https://colab.research.google.com/assets/colab-badge.svg\" alt=\"Open In Colab\"/></a>"
      ]
    },
    {
      "cell_type": "markdown",
      "source": [
        "**Problem Statement 01**\n",
        "\n",
        "Given a list\n",
        "\n",
        "L : [1,1,1,1,2,2,3,3,3,3,4,5]\n",
        "\n",
        "Write a program to print only unique elements\n",
        "\n",
        "Note : Don't convert List to Set\n",
        "\n",
        "Expected Output\n",
        "\n",
        "Unique List : [1, 2, 3, 4, 5]"
      ],
      "metadata": {
        "id": "VH-evDxxXnDx"
      }
    },
    {
      "cell_type": "code",
      "source": [
        "# Find unique numbers\n",
        "def uni_num(numb):\n",
        "    uni_num = []\n",
        "    for i in numb:\n",
        "        if i not in uni_num:\n",
        "            uni_num.append(i)\n",
        "    return uni_num\n",
        "\n",
        "numb = [1,1,1,1,2,2,3,3,3,3,4,5]\n",
        "print(uni_num(numb))"
      ],
      "metadata": {
        "colab": {
          "base_uri": "https://localhost:8080/"
        },
        "id": "q8I-rjNpXqmd",
        "outputId": "1b82fe51-ad47-4836-e09a-29d732b5b6c1"
      },
      "execution_count": 1,
      "outputs": [
        {
          "output_type": "stream",
          "name": "stdout",
          "text": [
            "[1, 2, 3, 4, 5]\n"
          ]
        }
      ]
    },
    {
      "cell_type": "markdown",
      "source": [
        "**Problem Statement 02**\n",
        "\n",
        "Given a list\n",
        "\n",
        "L = [1,2,3,4, [4,3] ]\n",
        "Check if the given number exist in the inner list"
      ],
      "metadata": {
        "id": "XXkIWzyUX4CJ"
      }
    },
    {
      "cell_type": "code",
      "source": [
        "# initialising nested lists\n",
        "l=[[1,2,3,4],[4,3]]\n",
        "\n",
        "a = 4\n",
        "b = 0\n",
        "d1 = a in [item for sublist in l for item in sublist]\n",
        "d2 = b in [item for sublist in l for item in sublist]\n",
        "\n",
        "print(d1,d2)"
      ],
      "metadata": {
        "colab": {
          "base_uri": "https://localhost:8080/"
        },
        "id": "ndVppb6xX_me",
        "outputId": "7977f871-199f-4a97-f815-433ca2fdbfcb"
      },
      "execution_count": 2,
      "outputs": [
        {
          "output_type": "stream",
          "name": "stdout",
          "text": [
            "True False\n"
          ]
        }
      ]
    }
  ]
}