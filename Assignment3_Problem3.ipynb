{
  "nbformat": 4,
  "nbformat_minor": 0,
  "metadata": {
    "colab": {
      "provenance": [],
      "authorship_tag": "ABX9TyOn0OYhsc/W7OkS1+iLJtha",
      "include_colab_link": true
    },
    "kernelspec": {
      "name": "python3",
      "display_name": "Python 3"
    },
    "language_info": {
      "name": "python"
    }
  },
  "cells": [
    {
      "cell_type": "markdown",
      "metadata": {
        "id": "view-in-github",
        "colab_type": "text"
      },
      "source": [
        "<a href=\"https://colab.research.google.com/github/navibr4u/Edyoda_Assignments/blob/main/Assignment3_Problem3.ipynb\" target=\"_parent\"><img src=\"https://colab.research.google.com/assets/colab-badge.svg\" alt=\"Open In Colab\"/></a>"
      ]
    },
    {
      "cell_type": "markdown",
      "source": [
        "**Problem Statement 01**\n",
        "\n",
        "Given a list of lists\n",
        "\n",
        "numbers_nested = [[1,-1,2],[0,-5,3,5,-2],[1,2,1,0,-2,-3]]\n",
        "\n",
        "Write a program to grab only positive numbers in each nested list and put that in a new list\n",
        "Expected Output\n",
        "\n",
        "[1, 2, 3, 5, 1, 2, 1]"
      ],
      "metadata": {
        "id": "Q2eIhqZYYyI6"
      }
    },
    {
      "cell_type": "code",
      "source": [
        "# Find positive numbers in Nested List\n",
        "numbers_nested=[[1,-1,2],[0,-5,3,5,-2],[1,2,1,0,-2,-3]]\n",
        "\n",
        "a= [[y for y in x if y > 0] for x in numbers_nested]\n",
        "\n",
        "# Result\n",
        "print(\"List of positive numbers :\", a)"
      ],
      "metadata": {
        "colab": {
          "base_uri": "https://localhost:8080/"
        },
        "id": "f4ujrSydY3-R",
        "outputId": "6700ec48-e732-4ccf-d96a-ae38657e72eb"
      },
      "execution_count": 2,
      "outputs": [
        {
          "output_type": "stream",
          "name": "stdout",
          "text": [
            "List of positive numbers : [[1, 2], [3, 5], [1, 2, 1]]\n"
          ]
        }
      ]
    },
    {
      "cell_type": "markdown",
      "source": [
        "**Problem Statement 02**\n",
        "\n",
        "Given a list of lists\n",
        "\n",
        "L = [ [1,2,3] , [ 4,5,6,3 ], [-1,-2,-10,5,8] ]\n",
        "\n",
        "Write a program to to print the average sum of value from each inner list and print the sum of each average"
      ],
      "metadata": {
        "id": "XO8_SjlOZToq"
      }
    },
    {
      "cell_type": "code",
      "source": [
        "# Given List of List to find sum of each average\n",
        "l=[[1,2,3],[4,5,6,3],[-1,-2,-10,5,8]]\n",
        "total = 0\n",
        "for i in l:\n",
        "    total += i[1]\n",
        "average = total / len(l)\n",
        "print(\"AVG of List:\",average)\n",
        "print(\"Total:\",total)\n",
        "print(\"Sum of avg:\",total+average)"
      ],
      "metadata": {
        "colab": {
          "base_uri": "https://localhost:8080/"
        },
        "id": "C12v55QBZbUK",
        "outputId": "5feb10c2-3e74-4028-dd83-d9d12e854b9a"
      },
      "execution_count": 3,
      "outputs": [
        {
          "output_type": "stream",
          "name": "stdout",
          "text": [
            "AVG of List: 1.6666666666666667\n",
            "Total: 5\n",
            "Sum of avg: 6.666666666666667\n"
          ]
        }
      ]
    },
    {
      "cell_type": "code",
      "source": [],
      "metadata": {
        "id": "LZomEjZFZJie"
      },
      "execution_count": null,
      "outputs": []
    }
  ]
}