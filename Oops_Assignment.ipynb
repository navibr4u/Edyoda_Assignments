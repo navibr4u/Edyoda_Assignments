{
  "nbformat": 4,
  "nbformat_minor": 0,
  "metadata": {
    "colab": {
      "provenance": [],
      "authorship_tag": "ABX9TyN0PbFxgj/FvygtYwJXrnsl",
      "include_colab_link": true
    },
    "kernelspec": {
      "name": "python3",
      "display_name": "Python 3"
    },
    "language_info": {
      "name": "python"
    }
  },
  "cells": [
    {
      "cell_type": "markdown",
      "metadata": {
        "id": "view-in-github",
        "colab_type": "text"
      },
      "source": [
        "<a href=\"https://colab.research.google.com/github/navibr4u/Edyoda_Assignments/blob/main/Oops_Assignment.ipynb\" target=\"_parent\"><img src=\"https://colab.research.google.com/assets/colab-badge.svg\" alt=\"Open In Colab\"/></a>"
      ]
    },
    {
      "cell_type": "markdown",
      "source": [
        "**Challenge 1: Square Numbers and Return Their Sum**\n",
        "\n",
        "**Problem statement:** Implement a class Point that has three properties and a method. All these attributes (properties and methods) should be public. This problem can be broken down into two tasks:\n",
        "\n",
        "Task 1: 👉 Implement a constructor to initialize the values of three properties: x, y, and z.\n",
        "\n",
        "Task 2: 👉 Implement a method, sqSum(), in the Point class which squares x, y, and z and returns their sum.\n",
        "\n",
        "Sample properties 1, 3, 5\n",
        "\n",
        "Sample method output 35"
      ],
      "metadata": {
        "id": "YOEnrfgFZ5cw"
      }
    },
    {
      "cell_type": "code",
      "execution_count": 4,
      "metadata": {
        "colab": {
          "base_uri": "https://localhost:8080/"
        },
        "id": "S23IMF-0ZqZt",
        "outputId": "ca034fea-c751-4657-9c77-17f651e02763"
      },
      "outputs": [
        {
          "output_type": "stream",
          "name": "stdout",
          "text": [
            "35\n"
          ]
        }
      ],
      "source": [
        "class Point:\n",
        "    def __init__(self, x, y, z):\n",
        "        self.x = x\n",
        "        self.y = y\n",
        "        self.z = z\n",
        "\n",
        "    def sqSum(self):\n",
        "        a = self.x * self.x\n",
        "        b = self.y * self.y\n",
        "        c = self.z * self.z\n",
        "        return(a + b + c)\n",
        "\n",
        "\n",
        "abc = Point(1, 3, 5)\n",
        "print(abc.sqSum())"
      ]
    },
    {
      "cell_type": "markdown",
      "source": [
        "**Challenge 2: Implement a Calculator Class**\n",
        "\n",
        "Problem statement Write a Python class called Calculator by completing the tasks below:\n",
        "\n",
        "Task 1\n",
        "\n",
        "👉 Initializer\n",
        "\n",
        "Implement an initializer to initialize the values of num1 and num2. Properties\n",
        "\n",
        "• num1\n",
        "• num2\n",
        "Task 2\n",
        "\n",
        "👉 Methods\n",
        "\n",
        "• add() is a method that returns the sum of num1 and num2.\n",
        "• subtract() is a method that returns the subtraction of num1 from num2.\n",
        "• multiply() is a method that returns the product of num1 and num2.\n",
        "• divide() is a method that returns the division of num2 by num1.\n",
        "Input - Pass numbers (integers or floats) in the initializer.\n",
        "\n",
        "Output - addition, subtraction, division, and multiplication\n",
        "\n",
        "Sample input\n",
        "\n",
        "obj = Calculator(10, 94)\n",
        "obj.add()\n",
        "obj.subtract()\n",
        "obj.multiply()\n",
        "obj.divide()\n",
        "Sample output\n",
        "\n",
        "104\n",
        "84\n",
        "940\n",
        "9.4"
      ],
      "metadata": {
        "id": "ZOr6CRKJaZ2b"
      }
    },
    {
      "cell_type": "code",
      "source": [
        "class Calculator:\n",
        "    def __init__(self, num1, num2):\n",
        "        self.num1 = num1\n",
        "        self.num2 = num2\n",
        "\n",
        "    def add(self):\n",
        "        return (self.num2 + self.num1)\n",
        "\n",
        "    def subtract(self):\n",
        "        return (self.num2 - self.num1)\n",
        "\n",
        "    def multiply(self):\n",
        "        return (self.num2 * self.num1)\n",
        "\n",
        "    def divide(self):\n",
        "        return (self.num2 / self.num1)\n",
        "\n",
        "\n",
        "xyz = Calculator(10, 94)\n",
        "print(\"Addition:\", xyz.add())\n",
        "print(\"Subtraction:\", xyz.subtract())\n",
        "print(\"Mutliplication:\", xyz.multiply())\n",
        "print(\"Division:\", xyz.divide())"
      ],
      "metadata": {
        "colab": {
          "base_uri": "https://localhost:8080/"
        },
        "id": "TNKt6fpCaL2z",
        "outputId": "d44122eb-d567-4903-c3fa-ed8c520e492a"
      },
      "execution_count": 5,
      "outputs": [
        {
          "output_type": "stream",
          "name": "stdout",
          "text": [
            "Addition: 104\n",
            "Subtraction: 84\n",
            "Mutliplication: 940\n",
            "Division: 9.4\n"
          ]
        }
      ]
    },
    {
      "cell_type": "markdown",
      "source": [
        "**Challenge 3: Implement the Complete Student Class**\n",
        "\n",
        "**Problem statement**\n",
        "\n",
        "Implement the complete Student class by completing the tasks below\n",
        "\n",
        "Task\n",
        "\n",
        "👉 Implement the following properties as private:\n",
        "\n",
        "• name\n",
        "• rollNumber\n",
        "👉 Include the following methods to get and set the private properties above:\n",
        "\n",
        "• getName()\n",
        "• setName()\n",
        "• getRollNumber()\n",
        "• setRollNumber()\n",
        "👉 Implement this class according to the rules of encapsulation.\n",
        "\n",
        "Input - Checking all the properties and methods\n",
        "\n",
        "Output - Expecting perfectly defined fields and getter/setters\n",
        "\n",
        "Note: Do not use initializers to initialize the properties. Use the set methods to do so.\n",
        "\n",
        "If the setter is not defined properly, the corresponding getter will also generate an error even if the getter is defined properly."
      ],
      "metadata": {
        "id": "Ih7OV4dObq69"
      }
    },
    {
      "cell_type": "code",
      "source": [
        "class Student:\n",
        "    __name = None\n",
        "    __rollNumber = None\n",
        "    \n",
        "    def setName(self, name):\n",
        "        self.__name = name\n",
        "\n",
        "    def getName(self):\n",
        "        return self.__name\n",
        "\n",
        "    def setRollNumber(self, rollNumber):\n",
        "        self.__rollNumber = rollNumber\n",
        "\n",
        "    def getRollNumber(self):\n",
        "        return self.__rollNumber\n",
        "\n",
        "\n",
        "abc = Student()\n",
        "abc.setName(\"Naveen\")\n",
        "print(\"Name:\", abc.getName())\n",
        "abc.setRollNumber(3351)\n",
        "print(\"Roll Number:\", abc.getRollNumber())"
      ],
      "metadata": {
        "colab": {
          "base_uri": "https://localhost:8080/"
        },
        "id": "3PRj0cnDb15n",
        "outputId": "ee60cd64-95b6-48c4-f3be-3ebea4da1ce1"
      },
      "execution_count": 6,
      "outputs": [
        {
          "output_type": "stream",
          "name": "stdout",
          "text": [
            "Name: Naveen\n",
            "Roll Number: 3351\n"
          ]
        }
      ]
    },
    {
      "cell_type": "markdown",
      "source": [
        "**Challenge 4: Implement a Banking Account**\n",
        "\n",
        "\n",
        "**Problem statement**\n",
        "\n",
        "Implement the basic structure of a parent class, Account, and a child class, SavingsAccount.\n",
        "\n",
        "Task 1\n",
        "\n",
        "👉 Implement properties as instance variables, and set them to None or 0.\n",
        "\n",
        "Account has the following properties:\n",
        "\n",
        "    • title\n",
        "    • Balance\n",
        "SavingsAccount has the following properties:\n",
        "\n",
        "    • interestRate\n",
        "\n",
        "  Task 2\n",
        "\n",
        "Create an initializer for Account class. The order of parameters should be the following, where Ashish is the title, and 5000 is the account balance:\n",
        "\n",
        "Account(\"Ashish\", 5000)\n",
        "\n",
        "Task 3\n",
        "\n",
        "Implement properties as instance variables, and set them to None or 0.\n",
        "\n",
        "Create an initializer for the SavingsAccount class using the initializer of the Account class in the order below:\n",
        "\n",
        "Account(\"Ashish\", 5000, 5)\n",
        "\n",
        "Here, Ashish is the title and 5000 is the balance and 5 is the interestRate."
      ],
      "metadata": {
        "id": "SxprCUETc2Pm"
      }
    },
    {
      "cell_type": "code",
      "source": [
        "\n",
        "# Task1 and Task 2\n",
        "class Account:\n",
        "    def __init__(self, title=None, balance=0):\n",
        "        self.title = title\n",
        "        self.balance = balance\n",
        "x=Account(\"Ashish\", 5000)\n",
        "\n",
        "print(x.title,x.balance)\n"
      ],
      "metadata": {
        "colab": {
          "base_uri": "https://localhost:8080/"
        },
        "id": "ebi5ykWwcxvw",
        "outputId": "366f0e2a-1cef-4dca-aac8-5bf7d593305b"
      },
      "execution_count": 12,
      "outputs": [
        {
          "output_type": "stream",
          "name": "stdout",
          "text": [
            "Ashish 5000\n"
          ]
        }
      ]
    },
    {
      "cell_type": "code",
      "source": [
        "# Task3\n",
        "class SavingsAccount(Account):\n",
        "    def __init__(self, title=None, balance=0, interestRate=0):\n",
        "        self.title=title\n",
        "        self.balance=balance\n",
        "        self.interestRate = interestRate\n",
        "\n",
        "y=SavingsAccount(\"Ashish\", 5000, 5)\n",
        "\n",
        "print(y.title,y.balance,y.interestRate)"
      ],
      "metadata": {
        "colab": {
          "base_uri": "https://localhost:8080/"
        },
        "id": "zBr_j1fdj76u",
        "outputId": "2def2221-fa6e-43fd-9b4d-8a4a11d66aec"
      },
      "execution_count": 17,
      "outputs": [
        {
          "output_type": "stream",
          "name": "stdout",
          "text": [
            "Ashish 5000 5\n"
          ]
        }
      ]
    },
    {
      "cell_type": "markdown",
      "source": [
        "**Challenge 5: Handling a Bank Account**\n",
        "\n",
        "Problem statement\n",
        "\n",
        "In this challenge, we will be extending the previous challenge and implementing methods in the parent class and its corresponding child class.\n",
        "\n",
        "The initializers for both classes have been defined for you.\n",
        "\n",
        "Task 1\n",
        "\n",
        "In the Account class, implement the getBalance() method that returns balance.\n",
        "\n",
        "Task 2\n",
        "\n",
        "In the Account class, implement the deposit(amount) method that adds amount to the balance.\n",
        "\n",
        "It does not return anything.\n",
        "\n",
        "Sample input\n",
        "\n",
        "balance = 2000\n",
        "deposit(500)\n",
        "getbalance()\n",
        "Sample output\n",
        "\n",
        "2500\n",
        "Task 3\n",
        "\n",
        "In the Account class, implement the withdrawal(amount) method that subtracts the amount from the balance.\n",
        "\n",
        "It does not return anything.\n",
        "\n",
        "Sample input\n",
        "\n",
        "balance = 2000\n",
        "withdrawal(500)\n",
        "getbalance()\n",
        "Sample output\n",
        "\n",
        "1500\n",
        "Task 4\n",
        "\n",
        "In the SavingsAccount class, implement an interestAmount() method that returns the interest amount of the current balance.\n",
        "\n",
        "Below is the formula for calculating the interest amount:\n",
        "\n"
      ],
      "metadata": {
        "id": "62jLMJJKiOuE"
      }
    },
    {
      "cell_type": "code",
      "source": [
        "class Account: \n",
        "    def __init__(self, title=None, balance=0):\n",
        "        self.title = title\n",
        "        self.balance = balance\n",
        "    \n",
        "    def withdrawal(self, amount):\n",
        "        self.balance = self.balance - amount\n",
        "    \n",
        "    \n",
        "    def deposit(self, amount):\n",
        "        self.balance = self.balance + amount\n",
        "    \n",
        "    def getBalance(self):\n",
        "        return self.balance\n",
        "\n",
        "\n",
        "class SavingsAccount(Account):\n",
        "    def __init__(self, title=None, balance=0, interestRate=0):\n",
        "        super().__init__(title, balance)\n",
        "        self.interestRate = interestRate\n",
        "\n",
        "    def interestAmount(self):\n",
        "        return (self.balance * self.interestRate / 100)\n",
        "\n",
        "\n",
        "obj1 = SavingsAccount(\"Ashish\", 2000, 5)\n",
        "print(\"Initial Balance:\", obj1.getBalance())\n",
        "obj1.withdrawal(1000)\n",
        "print(\"Balance after withdrawal:\", obj1.getBalance())\n",
        "obj1.deposit(500)\n",
        "print(\"Balance after deposit:\", obj1.getBalance())\n",
        "print(\"Interest on current balance:\", obj1.interestAmount())"
      ],
      "metadata": {
        "colab": {
          "base_uri": "https://localhost:8080/"
        },
        "id": "xc93-5k5dxLK",
        "outputId": "e1d805af-a33d-4a16-8a32-49605dac125b"
      },
      "execution_count": 10,
      "outputs": [
        {
          "output_type": "stream",
          "name": "stdout",
          "text": [
            "Initial Balance: 2000\n",
            "Balance after withdrawal: 1000\n",
            "Balance after deposit: 1500\n",
            "Interest on current balance: 75.0\n"
          ]
        }
      ]
    },
    {
      "cell_type": "code",
      "source": [],
      "metadata": {
        "id": "MTt7M8OhjIkk"
      },
      "execution_count": null,
      "outputs": []
    }
  ]
}